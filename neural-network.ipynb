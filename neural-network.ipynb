{
 "cells": [
  {
   "cell_type": "code",
   "execution_count": null,
   "metadata": {
    "_cell_guid": "b1076dfc-b9ad-4769-8c92-a6c4dae69d19",
    "_uuid": "8f2839f25d086af736a60e9eeb907d3b93b6e0e5"
   },
   "outputs": [],
   "source": [
    "\n",
    "import numpy as np \n",
    "import pandas as pd \n",
    "\n"
   ]
  },
  {
   "cell_type": "code",
   "execution_count": null,
   "metadata": {},
   "outputs": [],
   "source": [
    "\n",
    "\n",
    "import numpy as np\n",
    "import matplotlib.pyplot as plt\n",
    "import pandas as pd\n",
    "\n",
    "dataset = pd.read_csv('Churn_Modelling.csv')\n",
    "X = dataset.iloc[:, 3:13]\n",
    "y = dataset.iloc[:, 13]\n",
    "\n",
    "geography=pd.get_dummies(X[\"Geography\"],drop_first=True)\n",
    "gender=pd.get_dummies(X['Gender'],drop_first=True)\n",
    "\n",
    "\n",
    "X=pd.concat([X,geography,gender],axis=1)\n",
    "\n",
    "X=X.drop(['Geography','Gender'],axis=1)\n",
    "\n",
    "from sklearn.model_selection import train_test_split\n",
    "X_train, X_test, y_train, y_test = train_test_split(X, y, test_size = 0.2, random_state = 0)\n",
    "\n",
    "from sklearn.preprocessing import StandardScaler\n",
    "sc = StandardScaler()\n",
    "X_train = sc.fit_transform(X_train)\n",
    "X_test = sc.transform(X_test)\n",
    "\n",
    "\n",
    "\n"
   ]
  },
  {
   "cell_type": "code",
   "execution_count": null,
   "metadata": {},
   "outputs": [],
   "source": [
    "import keras\n",
    "from keras.models import Sequential\n",
    "from keras.layers import Dense\n",
    "from sklearn.metrics import accuracy_score\n",
    "from sklearn.metrics import confusion_matrix\n"
   ]
  },
  {
   "cell_type": "code",
   "execution_count": null,
   "metadata": {},
   "outputs": [],
   "source": [
    "\n",
    "\n",
    "def model(input_layer, hidden_layer,intializer, initializer_output, activation, activation_output,optimiz,loss,drop):\n",
    "    classifier = Sequential()\n",
    "\n",
    "    # Adding the input layer and the first hidden layer\n",
    "    classifier.add(Dense(units = 12, kernel_initializer = initializer,activation=activation,input_dim =input_layer))\n",
    "    if drop==True:\n",
    "        classifier.add(Dropout(0.3))\n",
    "    \n",
    "    \n",
    "    # Adding the second hidden layer\n",
    "    for  i in range(2,hidden_layer+1):\n",
    "        classifier.add(Dense(units = 12, kernel_initializer = initializer,activation=activation))\n",
    "        if drop==True:\n",
    "            classifier.add(Dropout(0.3))\n",
    "\n",
    "        \n",
    "    # Adding the output layer\n",
    "    classifier.add(Dense(units = 1, kernel_initializer = initializer_output, activation = activation_output))\n",
    "\n",
    "    # Compiling the NN\n",
    "    classifier.compile(optimizer = optimiz , loss = loss, metrics = ['accuracy'])\n",
    "    print(classifier.summary())\n",
    "\n",
    "    # Fitting the NN to the Training set\n",
    "    model_history=classifier.fit(X_train, y_train,validation_split=0.33, batch_size = 100, epochs = 100)\n",
    "    return model_history,classifier\n",
    "\n",
    "\n",
    "def visualize(model_history):\n",
    "    print(model_history.history.keys())\n",
    "\n",
    "\n",
    "    plt.plot(model_history.history['accuracy'])\n",
    "    plt.plot(model_history.history['val_accuracy'])\n",
    "    plt.title('model accuracy')\n",
    "    plt.ylabel('accuracy')\n",
    "    plt.xlabel('epoch')\n",
    "    plt.legend(['train', 'test'], loc='upper left')\n",
    "    plt.show()\n",
    "\n",
    "\n",
    "    plt.plot(model_history.history['loss'])\n",
    "    plt.plot(model_history.history['val_loss'])\n",
    "    plt.title('model loss')\n",
    "    plt.ylabel('loss')\n",
    "    plt.xlabel('epoch')\n",
    "    plt.legend(['train', 'test'], loc='upper left')\n",
    "    plt.show()\n",
    "\n",
    "def predict(classifier ,thres,X_test,y_test):\n",
    "\n",
    "    y_pred = classifier.predict(X_test)\n",
    "    y_pred=np.where(y_pred>thres,1,0)\n",
    "    \n",
    "    # Making the Confusion Matrix\n",
    "    cm = confusion_matrix(y_test, y_pred)\n",
    "\n",
    "    # Calculate the Accuracy\n",
    "    score=accuracy_score(y_pred,y_test)\n",
    "    return score,cm\n",
    "\n"
   ]
  },
  {
   "cell_type": "code",
   "execution_count": null,
   "metadata": {},
   "outputs": [],
   "source": [
    "initializer=keras.initializers.HeNormal()\n",
    "initializer_output= keras.initializers.GlorotNormal()\n",
    "\n",
    "input_layer =11\n",
    "hidden_layer = 3\n",
    "\n",
    "activation='relu'\n",
    "activation_output='sigmoid'\n",
    "\n",
    "optimiz= 'adam'\n",
    "loss=keras.losses.BinaryCrossentropy()\n",
    "\n",
    "model_output=model(input_layer,hidden_layer ,  initializer, initializer_output,activation, activation_output,optimiz,loss ,drop= False)\n",
    "\n",
    "visualize(model_output)\n",
    "predict(classifier,0.5,X_test,y_test)"
   ]
  },
  {
   "cell_type": "markdown",
   "metadata": {},
   "source": [
    "CAN SEE CLEARLY THAT THIS IS OVERFITTING PROBLEM\n",
    "\n",
    "So to remove this I will use drop_out\n"
   ]
  },
  {
   "cell_type": "code",
   "execution_count": null,
   "metadata": {},
   "outputs": [],
   "source": [
    "initializer=keras.initializers.HeNormal()\n",
    "initializer_output= keras.initializers.GlorotNormal()\n",
    "\n",
    "input_layer =11\n",
    "hidden_layer = 3\n",
    "\n",
    "activation='relu'\n",
    "activation_output='sigmoid'\n",
    "\n",
    "optimiz= 'adam'\n",
    "loss=keras.losses.BinaryCrossentropy()\n",
    "\n",
    "model_output,classifier=model(input_layer,hidden_layer ,  initializer, initializer_output,activation, activation_output,optimiz,loss ,drop= True)\n",
    "\n",
    "visualize(model_output)\n",
    "predict(classifier,0.5,X_test,y_test)"
   ]
  }
 ],
 "metadata": {
  "kernelspec": {
   "display_name": "Python 3",
   "language": "python",
   "name": "python3"
  },
  "language_info": {
   "codemirror_mode": {
    "name": "ipython",
    "version": 3
   },
   "file_extension": ".py",
   "mimetype": "text/x-python",
   "name": "python",
   "nbconvert_exporter": "python",
   "pygments_lexer": "ipython3",
   "version": "3.7.5"
  }
 },
 "nbformat": 4,
 "nbformat_minor": 4
}
